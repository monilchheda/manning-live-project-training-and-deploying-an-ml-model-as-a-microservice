{
  "nbformat": 4,
  "nbformat_minor": 0,
  "metadata": {
    "anaconda-cloud": {},
    "kernelspec": {
      "display_name": "Python 3",
      "language": "python",
      "name": "python3"
    },
    "language_info": {
      "codemirror_mode": {
        "name": "ipython",
        "version": 2
      },
      "file_extension": ".py",
      "mimetype": "text/x-python",
      "name": "python",
      "nbconvert_exporter": "python",
      "pygments_lexer": "ipython2",
      "version": "2.7.3"
    },
    "pycharm": {
      "stem_cell": {
        "cell_type": "raw",
        "metadata": {
          "collapsed": false
        },
        "source": []
      }
    },
    "colab": {
      "name": "ml-sentiment-analysis-1-score_reviews_via_service.ipynb",
      "provenance": [],
      "collapsed_sections": []
    },
    "accelerator": "GPU"
  },
  "cells": [
    {
      "cell_type": "markdown",
      "metadata": {
        "id": "xnpyc0JDRxor",
        "colab_type": "text"
      },
      "source": [
        "## Part 1: Existing Machine Learning Services\n",
        "\n",
        "<a href=\"https://colab.research.google.com/github/peckjon/hosting-ml-as-microservice/blob/master/part1/score_reviews_via_service.ipynb\" target=\"_parent\"><img src=\"https://colab.research.google.com/assets/colab-badge.svg\" alt=\"Open In Colab\"/></a>"
      ]
    },
    {
      "cell_type": "markdown",
      "metadata": {
        "id": "fIqy9o7qRxot",
        "colab_type": "text"
      },
      "source": [
        "### Obtain labelled reviews\n",
        "\n",
        "In order to test any of the sentiment analysis APIs, we need a labelled dataset of reviews and their sentiment polarity. We'll use NLTK to download the movie_reviews corpus."
      ]
    },
    {
      "cell_type": "code",
      "metadata": {
        "pycharm": {
          "name": "#%%\n"
        },
        "id": "EQdK4hX9Rxov",
        "colab_type": "code",
        "outputId": "e53de2b5-eba2-46ec-b0d0-f87607820882",
        "colab": {
          "base_uri": "https://localhost:8080/",
          "height": 68
        }
      },
      "source": [
        "from nltk import download\n",
        "\n",
        "download('movie_reviews')"
      ],
      "execution_count": 2,
      "outputs": [
        {
          "output_type": "stream",
          "text": [
            "[nltk_data] Downloading package movie_reviews to /root/nltk_data...\n",
            "[nltk_data]   Unzipping corpora/movie_reviews.zip.\n"
          ],
          "name": "stdout"
        },
        {
          "output_type": "execute_result",
          "data": {
            "text/plain": [
              "True"
            ]
          },
          "metadata": {
            "tags": []
          },
          "execution_count": 2
        }
      ]
    },
    {
      "cell_type": "markdown",
      "metadata": {
        "id": "K57gYWvpRxo2",
        "colab_type": "text"
      },
      "source": [
        "### Load the data\n",
        "\n",
        "The files in movie_reviews have already been divided into two sets: positive ('pos') and negative ('neg'), so we can load the raw text of the reviews into two lists, one for each polarity."
      ]
    },
    {
      "cell_type": "code",
      "metadata": {
        "id": "vj3r6cbtRxo4",
        "colab_type": "code",
        "colab": {}
      },
      "source": [
        "from nltk.corpus import movie_reviews\n",
        "\n",
        "# extract words from reviews, pair with label\n",
        "\n",
        "reviews_pos = []\n",
        "for fileid in movie_reviews.fileids('pos'):\n",
        "    review = movie_reviews.raw(fileid)\n",
        "    #print (review)\n",
        "    reviews_pos.append(review)\n",
        "\n",
        "reviews_neg = []\n",
        "for fileid in movie_reviews.fileids('neg'):\n",
        "    review = movie_reviews.raw(fileid)\n",
        "    reviews_neg.append(review)"
      ],
      "execution_count": 0,
      "outputs": []
    },
    {
      "cell_type": "markdown",
      "metadata": {
        "id": "KeBBQXBwRxo_",
        "colab_type": "text"
      },
      "source": [
        "### Connect to the scoring API\n",
        "\n",
        "Fill in this function with code that connects to one of these APIs, and uses it to score a single review:\n",
        "\n",
        "* [Amazon Comprehend: Detect Sentiment](https://docs.aws.amazon.com/comprehend/latest/dg/API_DetectSentiment.html)\n",
        "* [Google Natural Language: Analyzing Sentiment](https://cloud.google.com/natural-language/docs/analyzing-sentiment)\n",
        "* [Azure Cognitive Services: Sentiment Analysis](https://docs.microsoft.com/en-us/azure/cognitive-services/text-analytics/how-tos/text-analytics-how-to-sentiment-analysis)\n",
        "* [Algorithmia: Sentiment Analysis](https://algorithmia.com/algorithms/nlp/SentimentAnalysis)\n",
        "\n",
        "Your function must return either 'pos' or 'neg', so you'll need to make some decisions about how to map the results of the API call to one of these values. For example, Amazon Comprehend can return \"NEUTRAL\" or \"MIXED\" for the Sentiment -- if this happens, you may with to inspect the numeric values under the SentimentScore to see whether it leans toward positive or negative.\n"
      ]
    },
    {
      "cell_type": "code",
      "metadata": {
        "id": "_TW5rj_ARxpA",
        "colab_type": "code",
        "outputId": "e3560456-6af0-40cb-8648-2e0716233b12",
        "colab": {
          "base_uri": "https://localhost:8080/",
          "height": 391
        }
      },
      "source": [
        "!pip install algorithmia\n",
        "\n",
        "import Algorithmia\n",
        "\n",
        "def score_review(review):\n",
        "    # TBD: call the service and return 'pos' or 'neg'\n",
        "    ## Add the Algorithmia client\n",
        "    client = Algorithmia.client('INSERT_CLIENT_ID')\n",
        "    algo = client.algo('nlp/SentimentAnalysis/1.0.5')\n",
        "    algo.set_options(timeout=300) # optional\n",
        "    data = {}\n",
        "#    data['document'] = 'I really really really love Algorithmia!'\n",
        "    data['document'] = review\n",
        "    sentiment_result = algo.pipe(data).result\n",
        "#    print(sentiment_result)\n",
        "#    print(algo.pipe(review).result)\n",
        "#    print(type(sentiment_result))\n",
        "    sentiment_score = sentiment_result[0]['sentiment']\n",
        "    \n",
        "    if sentiment_score >= 0.0:\n",
        "      return 'pos'\n",
        "    else:\n",
        "      return 'neg'\n",
        "\n",
        "\n",
        "'''\n",
        "input = {\n",
        "  \"document\": \"I really really really like Algorithmia!\"\n",
        "  }\n",
        "print ('My', type(input))\n",
        "result = score_review(input)\n",
        "print(result)\n",
        "'''\n",
        "'''\n",
        "#import json\n",
        "\n",
        "data = {}\n",
        "data['document'] = 'I really really really love Algorithmia!'\n",
        "#json_data = json.dumps(data)\n",
        "print (data, type(data))\n",
        "result = score_review(data)\n",
        "print(result)\n",
        "'''\n"
      ],
      "execution_count": 5,
      "outputs": [
        {
          "output_type": "stream",
          "text": [
            "Collecting algorithmia\n",
            "  Downloading https://files.pythonhosted.org/packages/09/55/80d1625ce0d309957fe6494e11f9c0b770a5acb0839a8878649c0826156e/algorithmia-1.3.0-py2.py3-none-any.whl\n",
            "Requirement already satisfied: six in /usr/local/lib/python3.6/dist-packages (from algorithmia) (1.12.0)\n",
            "Collecting algorithmia-api-client==1.1.0\n",
            "\u001b[?25l  Downloading https://files.pythonhosted.org/packages/4f/11/238485cd3722bf28451549cf5bde8f4e47825c56d1a4d09439a75354269d/algorithmia_api_client-1.1.0-py2.py3-none-any.whl (122kB)\n",
            "\u001b[K     |████████████████████████████████| 122kB 4.1MB/s \n",
            "\u001b[?25hRequirement already satisfied: requests in /usr/local/lib/python3.6/dist-packages (from algorithmia) (2.23.0)\n",
            "Collecting enum34\n",
            "  Downloading https://files.pythonhosted.org/packages/63/f6/ccb1c83687756aeabbf3ca0f213508fcfb03883ff200d201b3a4c60cedcc/enum34-1.1.10-py3-none-any.whl\n",
            "Requirement already satisfied: certifi in /usr/local/lib/python3.6/dist-packages (from algorithmia-api-client==1.1.0->algorithmia) (2020.4.5.1)\n",
            "Requirement already satisfied: python-dateutil in /usr/local/lib/python3.6/dist-packages (from algorithmia-api-client==1.1.0->algorithmia) (2.8.1)\n",
            "Requirement already satisfied: urllib3>=1.15 in /usr/local/lib/python3.6/dist-packages (from algorithmia-api-client==1.1.0->algorithmia) (1.24.3)\n",
            "Requirement already satisfied: chardet<4,>=3.0.2 in /usr/local/lib/python3.6/dist-packages (from requests->algorithmia) (3.0.4)\n",
            "Requirement already satisfied: idna<3,>=2.5 in /usr/local/lib/python3.6/dist-packages (from requests->algorithmia) (2.9)\n",
            "Installing collected packages: algorithmia-api-client, enum34, algorithmia\n",
            "Successfully installed algorithmia-1.3.0 algorithmia-api-client-1.1.0 enum34-1.1.10\n"
          ],
          "name": "stdout"
        },
        {
          "output_type": "display_data",
          "data": {
            "application/vnd.colab-display-data+json": {
              "pip_warning": {
                "packages": [
                  "enum"
                ]
              }
            }
          },
          "metadata": {
            "tags": []
          }
        },
        {
          "output_type": "execute_result",
          "data": {
            "text/plain": [
              "\"\\n#import json\\n\\ndata = {}\\ndata['document'] = 'I really really really love Algorithmia!'\\n#json_data = json.dumps(data)\\nprint (data, type(data))\\nresult = score_review(data)\\nprint(result)\\n\""
            ]
          },
          "metadata": {
            "tags": []
          },
          "execution_count": 5
        }
      ]
    },
    {
      "cell_type": "markdown",
      "metadata": {
        "id": "IlUxAdz1RxpH",
        "colab_type": "text"
      },
      "source": [
        "### Score each review\n",
        "\n",
        "Now, we can use the function you defined to score each of the reviews"
      ]
    },
    {
      "cell_type": "code",
      "metadata": {
        "id": "nLw-af0bRxpI",
        "colab_type": "code",
        "colab": {
          "base_uri": "https://localhost:8080/",
          "height": 323
        },
        "outputId": "a32d215f-0180-4b03-aac6-c8109d6da518"
      },
      "source": [
        "results_pos = []\n",
        "len(reviews_pos)\n",
        "cpos = 1\n",
        "for review in reviews_pos:\n",
        "#    print ('current Review', review)\n",
        "    result = score_review(review)\n",
        "    print ('+ result', cpos)\n",
        "#    break\n",
        "    results_pos.append(result)\n",
        "    cpos += 1\n",
        "    # breaking at 10 to make sure code works\n",
        "    if (cpos == 10):\n",
        "      break\n",
        "\n",
        "results_neg = []\n",
        "len(reviews_neg)\n",
        "cneg = 1\n",
        "for review in reviews_neg:\n",
        "    result = score_review(review)\n",
        "    print ('- result', cneg)\n",
        "    results_neg.append(result)\n",
        "    cneg += 1\n",
        "    # breaking at 10 to make sure code works    \n",
        "    if (cneg == 10):\n",
        "      break\n"
      ],
      "execution_count": 7,
      "outputs": [
        {
          "output_type": "stream",
          "text": [
            "+ result 1\n",
            "+ result 2\n",
            "+ result 3\n",
            "+ result 4\n",
            "+ result 5\n",
            "+ result 6\n",
            "+ result 7\n",
            "+ result 8\n",
            "+ result 9\n",
            "- result 1\n",
            "- result 2\n",
            "- result 3\n",
            "- result 4\n",
            "- result 5\n",
            "- result 6\n",
            "- result 7\n",
            "- result 8\n",
            "- result 9\n"
          ],
          "name": "stdout"
        }
      ]
    },
    {
      "cell_type": "markdown",
      "metadata": {
        "id": "6Rd0OEoJRxpN",
        "colab_type": "text"
      },
      "source": [
        "### Calculate accuracy\n",
        "\n",
        "For each of our known positive reviews, we can count the number which our function scored as 'pos', and use this to calculate the % accuracy. We repeaty this for negative reviews, and also for overall accuracy."
      ]
    },
    {
      "cell_type": "code",
      "metadata": {
        "id": "F10EyfcqRxpO",
        "colab_type": "code",
        "colab": {
          "base_uri": "https://localhost:8080/",
          "height": 68
        },
        "outputId": "4552717f-bcea-4670-f233-62b63473f38d"
      },
      "source": [
        "correct_pos = results_pos.count('pos')\n",
        "accuracy_pos = float(correct_pos) / len(results_pos)\n",
        "correct_neg = results_neg.count('neg')\n",
        "accuracy_neg = float(correct_neg) / len(results_neg)\n",
        "correct_all = correct_pos + correct_neg\n",
        "accuracy_all = float(correct_all) / (len(results_pos)+len(results_neg))\n",
        "\n",
        "print('Positive reviews: {}% correct'.format(accuracy_pos*100))\n",
        "print('Negative reviews: {}% correct'.format(accuracy_neg*100))\n",
        "print('Overall accuracy: {}% correct'.format(accuracy_all*100))"
      ],
      "execution_count": 8,
      "outputs": [
        {
          "output_type": "stream",
          "text": [
            "Positive reviews: 88.88888888888889% correct\n",
            "Negative reviews: 55.55555555555556% correct\n",
            "Overall accuracy: 72.22222222222221% correct\n"
          ],
          "name": "stdout"
        }
      ]
    }
  ]
}